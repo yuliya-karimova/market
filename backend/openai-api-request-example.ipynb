{
 "cells": [
  {
   "cell_type": "code",
   "execution_count": 14,
   "metadata": {},
   "outputs": [
    {
     "name": "stdout",
     "output_type": "stream",
     "text": [
      "200\n",
      "Вашингтон, округ Колумбия.\n"
     ]
    }
   ],
   "source": [
    "import requests\n",
    "from typing import Optional, List, Dict, Any\n",
    "from pydantic import BaseModel\n",
    "\n",
    "class Message(BaseModel):\n",
    "    role: str\n",
    "    content: str\n",
    "\n",
    "class Payload(BaseModel):\n",
    "    model: str\n",
    "    messages: List[Message]\n",
    "    max_tokens: Optional[int] = None\n",
    "    temperature: Optional[float] = None\n",
    "    n: Optional[int] = None\n",
    "    stop: Optional[List[str]] = None\n",
    "    frequency_penalty: Optional[float] = None\n",
    "    presence_penalty: Optional[float] = None\n",
    "\n",
    "VPS_IP = \"176.222.52.84\"\n",
    "\n",
    "prompt = \"Столица США.\"\n",
    "\n",
    "messages = [\n",
    "    {\"role\": \"user\", \"content\": prompt}\n",
    "]\n",
    "\n",
    "res = requests.post(\n",
    "    f\"http://{VPS_IP}:8000/chat_api\",\n",
    "    json={\n",
    "        \"messages\": messages,\n",
    "        \"max_tokens\": 100,\n",
    "        \"model\": \"gpt-3.5-turbo\",\n",
    "        \"temperature\": 1\n",
    "    }\n",
    ")\n",
    "\n",
    "print(res.status_code)\n",
    "if res.status_code == 200:\n",
    "    print(res.json()[\"response\"])"
   ]
  },
  {
   "cell_type": "code",
   "execution_count": null,
   "metadata": {},
   "outputs": [],
   "source": []
  }
 ],
 "metadata": {
  "kernelspec": {
   "display_name": "sever",
   "language": "python",
   "name": "python3"
  },
  "language_info": {
   "codemirror_mode": {
    "name": "ipython",
    "version": 3
   },
   "file_extension": ".py",
   "mimetype": "text/x-python",
   "name": "python",
   "nbconvert_exporter": "python",
   "pygments_lexer": "ipython3",
   "version": "3.10.11"
  }
 },
 "nbformat": 4,
 "nbformat_minor": 2
}
